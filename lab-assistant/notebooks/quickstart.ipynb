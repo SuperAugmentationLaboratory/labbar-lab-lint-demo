{
 "cells": [
  {
   "cell_type": "code",
   "execution_count": 1,
   "metadata": {},
   "outputs": [
    {
     "name": "stdout",
     "output_type": "stream",
     "text": [
      "Collecting edgedb[ai]\n",
      "  Downloading edgedb-2.1.0-cp312-cp312-manylinux_2_17_x86_64.manylinux2014_x86_64.whl.metadata (3.7 kB)\n",
      "Requirement already satisfied: httpx~=0.27.0 in /home/mymm_psu_gmail_com/miniconda3/envs/dev/lib/python3.12/site-packages (from edgedb[ai]) (0.27.0)\n",
      "Collecting httpx-sse~=0.4.0 (from edgedb[ai])\n",
      "  Downloading httpx_sse-0.4.0-py3-none-any.whl.metadata (9.0 kB)\n",
      "Requirement already satisfied: anyio in /home/mymm_psu_gmail_com/miniconda3/envs/dev/lib/python3.12/site-packages (from httpx~=0.27.0->edgedb[ai]) (4.3.0)\n",
      "Requirement already satisfied: certifi in /home/mymm_psu_gmail_com/miniconda3/envs/dev/lib/python3.12/site-packages (from httpx~=0.27.0->edgedb[ai]) (2024.2.2)\n",
      "Requirement already satisfied: httpcore==1.* in /home/mymm_psu_gmail_com/miniconda3/envs/dev/lib/python3.12/site-packages (from httpx~=0.27.0->edgedb[ai]) (1.0.5)\n",
      "Requirement already satisfied: idna in /home/mymm_psu_gmail_com/miniconda3/envs/dev/lib/python3.12/site-packages (from httpx~=0.27.0->edgedb[ai]) (3.7)\n",
      "Requirement already satisfied: sniffio in /home/mymm_psu_gmail_com/miniconda3/envs/dev/lib/python3.12/site-packages (from httpx~=0.27.0->edgedb[ai]) (1.3.1)\n",
      "Requirement already satisfied: h11<0.15,>=0.13 in /home/mymm_psu_gmail_com/miniconda3/envs/dev/lib/python3.12/site-packages (from httpcore==1.*->httpx~=0.27.0->edgedb[ai]) (0.14.0)\n",
      "Downloading httpx_sse-0.4.0-py3-none-any.whl (7.8 kB)\n",
      "Downloading edgedb-2.1.0-cp312-cp312-manylinux_2_17_x86_64.manylinux2014_x86_64.whl (5.0 MB)\n",
      "\u001b[2K   \u001b[90m━━━━━━━━━━━━━━━━━━━━━━━━━━━━━━━━━━━━━━━━\u001b[0m \u001b[32m5.0/5.0 MB\u001b[0m \u001b[31m26.9 MB/s\u001b[0m eta \u001b[36m0:00:00\u001b[0m00:01\u001b[0m00:01\u001b[0m\n",
      "\u001b[?25hInstalling collected packages: httpx-sse, edgedb\n",
      "Successfully installed edgedb-2.1.0 httpx-sse-0.4.0\n"
     ]
    }
   ],
   "source": [
    "!pip install 'edgedb[ai]'\n"
   ]
  },
  {
   "cell_type": "code",
   "execution_count": 2,
   "metadata": {},
   "outputs": [],
   "source": [
    "import edgedb\n",
    "import edgedb.ai"
   ]
  },
  {
   "cell_type": "code",
   "execution_count": 4,
   "metadata": {},
   "outputs": [
    {
     "ename": "ClientConnectionError",
     "evalue": "Found `edgedb.toml` but the project is not initialized. Run `edgedb project init`.",
     "output_type": "error",
     "traceback": [
      "\u001b[0;31m---------------------------------------------------------------------------\u001b[0m",
      "\u001b[0;31mClientConnectionError\u001b[0m                     Traceback (most recent call last)",
      "Cell \u001b[0;32mIn[4], line 2\u001b[0m\n\u001b[1;32m      1\u001b[0m client \u001b[38;5;241m=\u001b[39m edgedb\u001b[38;5;241m.\u001b[39mcreate_client()\n\u001b[0;32m----> 2\u001b[0m gpt4ai \u001b[38;5;241m=\u001b[39m \u001b[43medgedb\u001b[49m\u001b[38;5;241;43m.\u001b[39;49m\u001b[43mai\u001b[49m\u001b[38;5;241;43m.\u001b[39;49m\u001b[43mcreate_ai\u001b[49m\u001b[43m(\u001b[49m\n\u001b[1;32m      3\u001b[0m \u001b[43m    \u001b[49m\u001b[43mclient\u001b[49m\u001b[43m,\u001b[49m\n\u001b[1;32m      4\u001b[0m \u001b[43m    \u001b[49m\u001b[43mmodel\u001b[49m\u001b[38;5;241;43m=\u001b[39;49m\u001b[38;5;124;43m\"\u001b[39;49m\u001b[38;5;124;43mgpt-4-turbo-preview\u001b[39;49m\u001b[38;5;124;43m\"\u001b[39;49m\n\u001b[1;32m      5\u001b[0m \u001b[43m)\u001b[49m\n",
      "File \u001b[0;32m~/miniconda3/envs/dev/lib/python3.12/site-packages/edgedb/ai/core.py:30\u001b[0m, in \u001b[0;36mcreate_ai\u001b[0;34m(client, **kwargs)\u001b[0m\n\u001b[1;32m     29\u001b[0m \u001b[38;5;28;01mdef\u001b[39;00m \u001b[38;5;21mcreate_ai\u001b[39m(client: edgedb\u001b[38;5;241m.\u001b[39mClient, \u001b[38;5;241m*\u001b[39m\u001b[38;5;241m*\u001b[39mkwargs) \u001b[38;5;241m-\u001b[39m\u001b[38;5;241m>\u001b[39m EdgeDBAI:\n\u001b[0;32m---> 30\u001b[0m     \u001b[43mclient\u001b[49m\u001b[38;5;241;43m.\u001b[39;49m\u001b[43mensure_connected\u001b[49m\u001b[43m(\u001b[49m\u001b[43m)\u001b[49m\n\u001b[1;32m     31\u001b[0m     \u001b[38;5;28;01mreturn\u001b[39;00m EdgeDBAI(client, types\u001b[38;5;241m.\u001b[39mAIOptions(\u001b[38;5;241m*\u001b[39m\u001b[38;5;241m*\u001b[39mkwargs))\n",
      "File \u001b[0;32m~/miniconda3/envs/dev/lib/python3.12/site-packages/edgedb/blocking_client.py:407\u001b[0m, in \u001b[0;36mClient.ensure_connected\u001b[0;34m(self)\u001b[0m\n\u001b[1;32m    406\u001b[0m \u001b[38;5;28;01mdef\u001b[39;00m \u001b[38;5;21mensure_connected\u001b[39m(\u001b[38;5;28mself\u001b[39m):\n\u001b[0;32m--> 407\u001b[0m     \u001b[38;5;28;43mself\u001b[39;49m\u001b[38;5;241;43m.\u001b[39;49m\u001b[43m_iter_coroutine\u001b[49m\u001b[43m(\u001b[49m\u001b[38;5;28;43mself\u001b[39;49m\u001b[38;5;241;43m.\u001b[39;49m\u001b[43m_impl\u001b[49m\u001b[38;5;241;43m.\u001b[39;49m\u001b[43mensure_connected\u001b[49m\u001b[43m(\u001b[49m\u001b[43m)\u001b[49m\u001b[43m)\u001b[49m\n\u001b[1;32m    408\u001b[0m     \u001b[38;5;28;01mreturn\u001b[39;00m \u001b[38;5;28mself\u001b[39m\n",
      "File \u001b[0;32m~/miniconda3/envs/dev/lib/python3.12/site-packages/edgedb/blocking_client.py:394\u001b[0m, in \u001b[0;36mClient._iter_coroutine\u001b[0;34m(self, coro)\u001b[0m\n\u001b[1;32m    392\u001b[0m \u001b[38;5;28;01mdef\u001b[39;00m \u001b[38;5;21m_iter_coroutine\u001b[39m(\u001b[38;5;28mself\u001b[39m, coro):\n\u001b[1;32m    393\u001b[0m     \u001b[38;5;28;01mtry\u001b[39;00m:\n\u001b[0;32m--> 394\u001b[0m         \u001b[43mcoro\u001b[49m\u001b[38;5;241;43m.\u001b[39;49m\u001b[43msend\u001b[49m\u001b[43m(\u001b[49m\u001b[38;5;28;43;01mNone\u001b[39;49;00m\u001b[43m)\u001b[49m\n\u001b[1;32m    395\u001b[0m     \u001b[38;5;28;01mexcept\u001b[39;00m \u001b[38;5;167;01mStopIteration\u001b[39;00m \u001b[38;5;28;01mas\u001b[39;00m ex:\n\u001b[1;32m    396\u001b[0m         \u001b[38;5;28;01mreturn\u001b[39;00m ex\u001b[38;5;241m.\u001b[39mvalue\n",
      "File \u001b[0;32m~/miniconda3/envs/dev/lib/python3.12/site-packages/edgedb/base_client.py:620\u001b[0m, in \u001b[0;36mBasePoolImpl.ensure_connected\u001b[0;34m(self)\u001b[0m\n\u001b[1;32m    618\u001b[0m ch \u001b[38;5;241m=\u001b[39m \u001b[38;5;28mself\u001b[39m\u001b[38;5;241m.\u001b[39m_holders[\u001b[38;5;241m0\u001b[39m]\n\u001b[1;32m    619\u001b[0m ch\u001b[38;5;241m.\u001b[39m_con \u001b[38;5;241m=\u001b[39m \u001b[38;5;28;01mNone\u001b[39;00m\n\u001b[0;32m--> 620\u001b[0m \u001b[38;5;28;01mawait\u001b[39;00m ch\u001b[38;5;241m.\u001b[39mconnect()\n",
      "File \u001b[0;32m~/miniconda3/envs/dev/lib/python3.12/site-packages/edgedb/base_client.py:327\u001b[0m, in \u001b[0;36mPoolConnectionHolder.connect\u001b[0;34m(self)\u001b[0m\n\u001b[1;32m    322\u001b[0m \u001b[38;5;28;01mif\u001b[39;00m \u001b[38;5;28mself\u001b[39m\u001b[38;5;241m.\u001b[39m_con \u001b[38;5;129;01mis\u001b[39;00m \u001b[38;5;129;01mnot\u001b[39;00m \u001b[38;5;28;01mNone\u001b[39;00m:\n\u001b[1;32m    323\u001b[0m     \u001b[38;5;28;01mraise\u001b[39;00m errors\u001b[38;5;241m.\u001b[39mInternalClientError(\n\u001b[1;32m    324\u001b[0m         \u001b[38;5;124m'\u001b[39m\u001b[38;5;124mPoolConnectionHolder.connect() called while another \u001b[39m\u001b[38;5;124m'\u001b[39m\n\u001b[1;32m    325\u001b[0m         \u001b[38;5;124m'\u001b[39m\u001b[38;5;124mconnection already exists\u001b[39m\u001b[38;5;124m'\u001b[39m)\n\u001b[0;32m--> 327\u001b[0m \u001b[38;5;28mself\u001b[39m\u001b[38;5;241m.\u001b[39m_con \u001b[38;5;241m=\u001b[39m \u001b[38;5;28;01mawait\u001b[39;00m \u001b[38;5;28mself\u001b[39m\u001b[38;5;241m.\u001b[39m_pool\u001b[38;5;241m.\u001b[39m_get_new_connection()\n\u001b[1;32m    328\u001b[0m \u001b[38;5;28;01massert\u001b[39;00m \u001b[38;5;28mself\u001b[39m\u001b[38;5;241m.\u001b[39m_con\u001b[38;5;241m.\u001b[39m_holder \u001b[38;5;129;01mis\u001b[39;00m \u001b[38;5;28;01mNone\u001b[39;00m\n\u001b[1;32m    329\u001b[0m \u001b[38;5;28mself\u001b[39m\u001b[38;5;241m.\u001b[39m_con\u001b[38;5;241m.\u001b[39m_holder \u001b[38;5;241m=\u001b[39m \u001b[38;5;28mself\u001b[39m\n",
      "File \u001b[0;32m~/miniconda3/envs/dev/lib/python3.12/site-packages/edgedb/base_client.py:560\u001b[0m, in \u001b[0;36mBasePoolImpl._get_new_connection\u001b[0;34m(self)\u001b[0m\n\u001b[1;32m    558\u001b[0m con \u001b[38;5;241m=\u001b[39m \u001b[38;5;28;01mNone\u001b[39;00m\n\u001b[1;32m    559\u001b[0m \u001b[38;5;28;01mif\u001b[39;00m \u001b[38;5;28mself\u001b[39m\u001b[38;5;241m.\u001b[39m_working_addr \u001b[38;5;129;01mis\u001b[39;00m \u001b[38;5;28;01mNone\u001b[39;00m:\n\u001b[0;32m--> 560\u001b[0m     con \u001b[38;5;241m=\u001b[39m \u001b[38;5;28;01mawait\u001b[39;00m \u001b[38;5;28mself\u001b[39m\u001b[38;5;241m.\u001b[39m_maybe_get_first_connection()\n\u001b[1;32m    561\u001b[0m \u001b[38;5;28;01mif\u001b[39;00m con \u001b[38;5;129;01mis\u001b[39;00m \u001b[38;5;28;01mNone\u001b[39;00m:\n\u001b[1;32m    562\u001b[0m     \u001b[38;5;28;01massert\u001b[39;00m \u001b[38;5;28mself\u001b[39m\u001b[38;5;241m.\u001b[39m_working_addr \u001b[38;5;129;01mis\u001b[39;00m \u001b[38;5;129;01mnot\u001b[39;00m \u001b[38;5;28;01mNone\u001b[39;00m\n",
      "File \u001b[0;32m~/miniconda3/envs/dev/lib/python3.12/site-packages/edgedb/blocking_client.py:241\u001b[0m, in \u001b[0;36m_PoolImpl._maybe_get_first_connection\u001b[0;34m(self)\u001b[0m\n\u001b[1;32m    239\u001b[0m \u001b[38;5;28;01mwith\u001b[39;00m \u001b[38;5;28mself\u001b[39m\u001b[38;5;241m.\u001b[39m_first_connect_lock:\n\u001b[1;32m    240\u001b[0m     \u001b[38;5;28;01mif\u001b[39;00m \u001b[38;5;28mself\u001b[39m\u001b[38;5;241m.\u001b[39m_working_addr \u001b[38;5;129;01mis\u001b[39;00m \u001b[38;5;28;01mNone\u001b[39;00m:\n\u001b[0;32m--> 241\u001b[0m         \u001b[38;5;28;01mreturn\u001b[39;00m \u001b[38;5;28;01mawait\u001b[39;00m \u001b[38;5;28mself\u001b[39m\u001b[38;5;241m.\u001b[39m_get_first_connection()\n",
      "File \u001b[0;32m~/miniconda3/envs/dev/lib/python3.12/site-packages/edgedb/base_client.py:535\u001b[0m, in \u001b[0;36mBasePoolImpl._get_first_connection\u001b[0;34m(self)\u001b[0m\n\u001b[1;32m    533\u001b[0m \u001b[38;5;28;01masync\u001b[39;00m \u001b[38;5;28;01mdef\u001b[39;00m \u001b[38;5;21m_get_first_connection\u001b[39m(\u001b[38;5;28mself\u001b[39m):\n\u001b[1;32m    534\u001b[0m     \u001b[38;5;66;03m# First connection attempt on this pool.\u001b[39;00m\n\u001b[0;32m--> 535\u001b[0m     connect_config, client_config \u001b[38;5;241m=\u001b[39m \u001b[43mcon_utils\u001b[49m\u001b[38;5;241;43m.\u001b[39;49m\u001b[43mparse_connect_arguments\u001b[49m\u001b[43m(\u001b[49m\n\u001b[1;32m    536\u001b[0m \u001b[43m        \u001b[49m\u001b[38;5;241;43m*\u001b[39;49m\u001b[38;5;241;43m*\u001b[39;49m\u001b[38;5;28;43mself\u001b[39;49m\u001b[38;5;241;43m.\u001b[39;49m\u001b[43m_connect_args\u001b[49m\u001b[43m,\u001b[49m\n\u001b[1;32m    537\u001b[0m \u001b[43m        \u001b[49m\u001b[38;5;66;43;03m# ToDos\u001b[39;49;00m\n\u001b[1;32m    538\u001b[0m \u001b[43m        \u001b[49m\u001b[43mcommand_timeout\u001b[49m\u001b[38;5;241;43m=\u001b[39;49m\u001b[38;5;28;43;01mNone\u001b[39;49;00m\u001b[43m,\u001b[49m\n\u001b[1;32m    539\u001b[0m \u001b[43m        \u001b[49m\u001b[43mserver_settings\u001b[49m\u001b[38;5;241;43m=\u001b[39;49m\u001b[38;5;28;43;01mNone\u001b[39;49;00m\u001b[43m,\u001b[49m\n\u001b[1;32m    540\u001b[0m \u001b[43m    \u001b[49m\u001b[43m)\u001b[49m\n\u001b[1;32m    541\u001b[0m     con \u001b[38;5;241m=\u001b[39m \u001b[38;5;28mself\u001b[39m\u001b[38;5;241m.\u001b[39m_connection_factory(\n\u001b[1;32m    542\u001b[0m         [connect_config\u001b[38;5;241m.\u001b[39maddress], client_config, connect_config\n\u001b[1;32m    543\u001b[0m     )\n\u001b[1;32m    544\u001b[0m     \u001b[38;5;28;01mawait\u001b[39;00m con\u001b[38;5;241m.\u001b[39mconnect()\n",
      "File \u001b[0;32m~/miniconda3/envs/dev/lib/python3.12/site-packages/edgedb/con_utils.py:1200\u001b[0m, in \u001b[0;36mparse_connect_arguments\u001b[0;34m(dsn, host, port, credentials, credentials_file, database, branch, user, password, secret_key, tls_ca, tls_ca_file, tls_security, timeout, command_timeout, wait_until_available, server_settings)\u001b[0m\n\u001b[1;32m   1194\u001b[0m     \u001b[38;5;28;01mexcept\u001b[39;00m \u001b[38;5;167;01mValueError\u001b[39;00m:\n\u001b[1;32m   1195\u001b[0m         \u001b[38;5;28;01mraise\u001b[39;00m \u001b[38;5;167;01mValueError\u001b[39;00m(\n\u001b[1;32m   1196\u001b[0m             \u001b[38;5;124m'\u001b[39m\u001b[38;5;124minvalid command_timeout value: \u001b[39m\u001b[38;5;124m'\u001b[39m\n\u001b[1;32m   1197\u001b[0m             \u001b[38;5;124m'\u001b[39m\u001b[38;5;124mexpected greater than 0 float (got \u001b[39m\u001b[38;5;132;01m{!r}\u001b[39;00m\u001b[38;5;124m)\u001b[39m\u001b[38;5;124m'\u001b[39m\u001b[38;5;241m.\u001b[39mformat(\n\u001b[1;32m   1198\u001b[0m                 command_timeout)) \u001b[38;5;28;01mfrom\u001b[39;00m \u001b[38;5;28;01mNone\u001b[39;00m\n\u001b[0;32m-> 1200\u001b[0m connect_config \u001b[38;5;241m=\u001b[39m \u001b[43m_parse_connect_dsn_and_args\u001b[49m\u001b[43m(\u001b[49m\n\u001b[1;32m   1201\u001b[0m \u001b[43m    \u001b[49m\u001b[43mdsn\u001b[49m\u001b[38;5;241;43m=\u001b[39;49m\u001b[43mdsn\u001b[49m\u001b[43m,\u001b[49m\n\u001b[1;32m   1202\u001b[0m \u001b[43m    \u001b[49m\u001b[43mhost\u001b[49m\u001b[38;5;241;43m=\u001b[39;49m\u001b[43mhost\u001b[49m\u001b[43m,\u001b[49m\n\u001b[1;32m   1203\u001b[0m \u001b[43m    \u001b[49m\u001b[43mport\u001b[49m\u001b[38;5;241;43m=\u001b[39;49m\u001b[43mport\u001b[49m\u001b[43m,\u001b[49m\n\u001b[1;32m   1204\u001b[0m \u001b[43m    \u001b[49m\u001b[43mcredentials\u001b[49m\u001b[38;5;241;43m=\u001b[39;49m\u001b[43mcredentials\u001b[49m\u001b[43m,\u001b[49m\n\u001b[1;32m   1205\u001b[0m \u001b[43m    \u001b[49m\u001b[43mcredentials_file\u001b[49m\u001b[38;5;241;43m=\u001b[39;49m\u001b[43mcredentials_file\u001b[49m\u001b[43m,\u001b[49m\n\u001b[1;32m   1206\u001b[0m \u001b[43m    \u001b[49m\u001b[43mdatabase\u001b[49m\u001b[38;5;241;43m=\u001b[39;49m\u001b[43mdatabase\u001b[49m\u001b[43m,\u001b[49m\n\u001b[1;32m   1207\u001b[0m \u001b[43m    \u001b[49m\u001b[43mbranch\u001b[49m\u001b[38;5;241;43m=\u001b[39;49m\u001b[43mbranch\u001b[49m\u001b[43m,\u001b[49m\n\u001b[1;32m   1208\u001b[0m \u001b[43m    \u001b[49m\u001b[43muser\u001b[49m\u001b[38;5;241;43m=\u001b[39;49m\u001b[43muser\u001b[49m\u001b[43m,\u001b[49m\n\u001b[1;32m   1209\u001b[0m \u001b[43m    \u001b[49m\u001b[43mpassword\u001b[49m\u001b[38;5;241;43m=\u001b[39;49m\u001b[43mpassword\u001b[49m\u001b[43m,\u001b[49m\n\u001b[1;32m   1210\u001b[0m \u001b[43m    \u001b[49m\u001b[43msecret_key\u001b[49m\u001b[38;5;241;43m=\u001b[39;49m\u001b[43msecret_key\u001b[49m\u001b[43m,\u001b[49m\n\u001b[1;32m   1211\u001b[0m \u001b[43m    \u001b[49m\u001b[43mtls_ca\u001b[49m\u001b[38;5;241;43m=\u001b[39;49m\u001b[43mtls_ca\u001b[49m\u001b[43m,\u001b[49m\n\u001b[1;32m   1212\u001b[0m \u001b[43m    \u001b[49m\u001b[43mtls_ca_file\u001b[49m\u001b[38;5;241;43m=\u001b[39;49m\u001b[43mtls_ca_file\u001b[49m\u001b[43m,\u001b[49m\n\u001b[1;32m   1213\u001b[0m \u001b[43m    \u001b[49m\u001b[43mtls_security\u001b[49m\u001b[38;5;241;43m=\u001b[39;49m\u001b[43mtls_security\u001b[49m\u001b[43m,\u001b[49m\n\u001b[1;32m   1214\u001b[0m \u001b[43m    \u001b[49m\u001b[43mserver_settings\u001b[49m\u001b[38;5;241;43m=\u001b[39;49m\u001b[43mserver_settings\u001b[49m\u001b[43m,\u001b[49m\n\u001b[1;32m   1215\u001b[0m \u001b[43m    \u001b[49m\u001b[43mwait_until_available\u001b[49m\u001b[38;5;241;43m=\u001b[39;49m\u001b[43mwait_until_available\u001b[49m\u001b[43m,\u001b[49m\n\u001b[1;32m   1216\u001b[0m \u001b[43m\u001b[49m\u001b[43m)\u001b[49m\n\u001b[1;32m   1218\u001b[0m client_config \u001b[38;5;241m=\u001b[39m ClientConfiguration(\n\u001b[1;32m   1219\u001b[0m     connect_timeout\u001b[38;5;241m=\u001b[39mtimeout,\n\u001b[1;32m   1220\u001b[0m     command_timeout\u001b[38;5;241m=\u001b[39mcommand_timeout,\n\u001b[1;32m   1221\u001b[0m     wait_until_available\u001b[38;5;241m=\u001b[39mconnect_config\u001b[38;5;241m.\u001b[39mwait_until_available,\n\u001b[1;32m   1222\u001b[0m )\n\u001b[1;32m   1224\u001b[0m \u001b[38;5;28;01mreturn\u001b[39;00m connect_config, client_config\n",
      "File \u001b[0;32m~/miniconda3/envs/dev/lib/python3.12/site-packages/edgedb/con_utils.py:760\u001b[0m, in \u001b[0;36m_parse_connect_dsn_and_args\u001b[0;34m(dsn, host, port, credentials, credentials_file, user, password, secret_key, database, branch, tls_ca, tls_ca_file, tls_security, server_settings, wait_until_available)\u001b[0m\n\u001b[1;32m    758\u001b[0m             resolved_config\u001b[38;5;241m.\u001b[39mset_database(database, \u001b[38;5;124m\"\u001b[39m\u001b[38;5;124mproject\u001b[39m\u001b[38;5;124m\"\u001b[39m)\n\u001b[1;32m    759\u001b[0m     \u001b[38;5;28;01melse\u001b[39;00m:\n\u001b[0;32m--> 760\u001b[0m         \u001b[38;5;28;01mraise\u001b[39;00m errors\u001b[38;5;241m.\u001b[39mClientConnectionError(\n\u001b[1;32m    761\u001b[0m             \u001b[38;5;124mf\u001b[39m\u001b[38;5;124m'\u001b[39m\u001b[38;5;124mFound `edgedb.toml` but the project is not initialized. \u001b[39m\u001b[38;5;124m'\u001b[39m\n\u001b[1;32m    762\u001b[0m             \u001b[38;5;124mf\u001b[39m\u001b[38;5;124m'\u001b[39m\u001b[38;5;124mRun `edgedb project init`.\u001b[39m\u001b[38;5;124m'\u001b[39m\n\u001b[1;32m    763\u001b[0m         )\n\u001b[1;32m    765\u001b[0m \u001b[38;5;28;01mreturn\u001b[39;00m resolved_config\n",
      "\u001b[0;31mClientConnectionError\u001b[0m: Found `edgedb.toml` but the project is not initialized. Run `edgedb project init`."
     ]
    }
   ],
   "source": [
    "client = edgedb.create_client()\n",
    "gpt4ai = edgedb.ai.create_ai(\n",
    "    client,\n",
    "    model=\"gpt-4-turbo-preview\"\n",
    ")"
   ]
  },
  {
   "cell_type": "code",
   "execution_count": null,
   "metadata": {},
   "outputs": [],
   "source": []
  }
 ],
 "metadata": {
  "kernelspec": {
   "display_name": "dev",
   "language": "python",
   "name": "python3"
  },
  "language_info": {
   "codemirror_mode": {
    "name": "ipython",
    "version": 3
   },
   "file_extension": ".py",
   "mimetype": "text/x-python",
   "name": "python",
   "nbconvert_exporter": "python",
   "pygments_lexer": "ipython3",
   "version": "3.12.3"
  }
 },
 "nbformat": 4,
 "nbformat_minor": 2
}
